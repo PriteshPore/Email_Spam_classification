{
 "cells": [
  {
   "cell_type": "code",
   "execution_count": 1,
   "id": "db7ac16b-0b7b-48cd-93d3-23d338392e6f",
   "metadata": {},
   "outputs": [],
   "source": [
    "import pandas as pd\n",
    "import numpy as np\n",
    "import warnings\n",
    "warnings.filterwarnings(\"ignore\")"
   ]
  },
  {
   "cell_type": "code",
   "execution_count": 3,
   "id": "f99bd4e5-d441-4dc1-ab5f-0bb3e642be8b",
   "metadata": {},
   "outputs": [],
   "source": [
    "raw_mail_data  = pd.read_csv('mail_data.csv')"
   ]
  },
  {
   "cell_type": "code",
   "execution_count": 5,
   "id": "91cc4ca9-6c02-44c4-8e98-fa922e2cde96",
   "metadata": {},
   "outputs": [
    {
     "data": {
      "text/html": [
       "<div>\n",
       "<style scoped>\n",
       "    .dataframe tbody tr th:only-of-type {\n",
       "        vertical-align: middle;\n",
       "    }\n",
       "\n",
       "    .dataframe tbody tr th {\n",
       "        vertical-align: top;\n",
       "    }\n",
       "\n",
       "    .dataframe thead th {\n",
       "        text-align: right;\n",
       "    }\n",
       "</style>\n",
       "<table border=\"1\" class=\"dataframe\">\n",
       "  <thead>\n",
       "    <tr style=\"text-align: right;\">\n",
       "      <th></th>\n",
       "      <th>Category</th>\n",
       "      <th>Message</th>\n",
       "    </tr>\n",
       "  </thead>\n",
       "  <tbody>\n",
       "    <tr>\n",
       "      <th>3104</th>\n",
       "      <td>ham</td>\n",
       "      <td>U so lousy, run already come back then half de...</td>\n",
       "    </tr>\n",
       "    <tr>\n",
       "      <th>4625</th>\n",
       "      <td>ham</td>\n",
       "      <td>Jus finish blowing my hair. U finish dinner al...</td>\n",
       "    </tr>\n",
       "    <tr>\n",
       "      <th>1251</th>\n",
       "      <td>ham</td>\n",
       "      <td>Ummmmmaah Many many happy returns of d day my ...</td>\n",
       "    </tr>\n",
       "    <tr>\n",
       "      <th>3033</th>\n",
       "      <td>ham</td>\n",
       "      <td>Jokin only lar... :-) depends on which phone m...</td>\n",
       "    </tr>\n",
       "    <tr>\n",
       "      <th>647</th>\n",
       "      <td>ham</td>\n",
       "      <td>Do you mind if I ask what happened? You dont h...</td>\n",
       "    </tr>\n",
       "    <tr>\n",
       "      <th>4339</th>\n",
       "      <td>ham</td>\n",
       "      <td>Yes when is the appt again?</td>\n",
       "    </tr>\n",
       "    <tr>\n",
       "      <th>480</th>\n",
       "      <td>ham</td>\n",
       "      <td>When're you guys getting back? G said you were...</td>\n",
       "    </tr>\n",
       "    <tr>\n",
       "      <th>5145</th>\n",
       "      <td>ham</td>\n",
       "      <td>Aiyar u so poor thing... I give u my support k...</td>\n",
       "    </tr>\n",
       "    <tr>\n",
       "      <th>3008</th>\n",
       "      <td>ham</td>\n",
       "      <td>Ah you see. You have to be in the lingo. I wil...</td>\n",
       "    </tr>\n",
       "    <tr>\n",
       "      <th>83</th>\n",
       "      <td>ham</td>\n",
       "      <td>You will be in the place of that man</td>\n",
       "    </tr>\n",
       "  </tbody>\n",
       "</table>\n",
       "</div>"
      ],
      "text/plain": [
       "     Category                                            Message\n",
       "3104      ham  U so lousy, run already come back then half de...\n",
       "4625      ham  Jus finish blowing my hair. U finish dinner al...\n",
       "1251      ham  Ummmmmaah Many many happy returns of d day my ...\n",
       "3033      ham  Jokin only lar... :-) depends on which phone m...\n",
       "647       ham  Do you mind if I ask what happened? You dont h...\n",
       "4339      ham                        Yes when is the appt again?\n",
       "480       ham  When're you guys getting back? G said you were...\n",
       "5145      ham  Aiyar u so poor thing... I give u my support k...\n",
       "3008      ham  Ah you see. You have to be in the lingo. I wil...\n",
       "83        ham               You will be in the place of that man"
      ]
     },
     "execution_count": 5,
     "metadata": {},
     "output_type": "execute_result"
    }
   ],
   "source": [
    "# Fetching Random rows\n",
    "raw_mail_data.sample(10)"
   ]
  },
  {
   "cell_type": "code",
   "execution_count": 7,
   "id": "96ad46a4-834a-463d-b198-9f136ec9b75e",
   "metadata": {},
   "outputs": [
    {
     "name": "stdout",
     "output_type": "stream",
     "text": [
      "<class 'pandas.core.frame.DataFrame'>\n",
      "RangeIndex: 5572 entries, 0 to 5571\n",
      "Data columns (total 2 columns):\n",
      " #   Column    Non-Null Count  Dtype \n",
      "---  ------    --------------  ----- \n",
      " 0   Category  5572 non-null   object\n",
      " 1   Message   5572 non-null   object\n",
      "dtypes: object(2)\n",
      "memory usage: 87.2+ KB\n"
     ]
    }
   ],
   "source": [
    "# Information of Data\n",
    "raw_mail_data.info()"
   ]
  },
  {
   "cell_type": "code",
   "execution_count": 9,
   "id": "9a6c5c6c-76e0-4281-800b-b79a10b9e43b",
   "metadata": {},
   "outputs": [
    {
     "data": {
      "text/plain": [
       "(5572, 2)"
      ]
     },
     "execution_count": 9,
     "metadata": {},
     "output_type": "execute_result"
    }
   ],
   "source": [
    "# Dimension of the data\n",
    "raw_mail_data.shape"
   ]
  },
  {
   "cell_type": "code",
   "execution_count": 11,
   "id": "a1c34dfd-5ac2-44a8-95d3-f60a570173fa",
   "metadata": {},
   "outputs": [
    {
     "data": {
      "text/html": [
       "<div>\n",
       "<style scoped>\n",
       "    .dataframe tbody tr th:only-of-type {\n",
       "        vertical-align: middle;\n",
       "    }\n",
       "\n",
       "    .dataframe tbody tr th {\n",
       "        vertical-align: top;\n",
       "    }\n",
       "\n",
       "    .dataframe thead th {\n",
       "        text-align: right;\n",
       "    }\n",
       "</style>\n",
       "<table border=\"1\" class=\"dataframe\">\n",
       "  <thead>\n",
       "    <tr style=\"text-align: right;\">\n",
       "      <th></th>\n",
       "      <th>Category</th>\n",
       "      <th>Message</th>\n",
       "    </tr>\n",
       "  </thead>\n",
       "  <tbody>\n",
       "    <tr>\n",
       "      <th>count</th>\n",
       "      <td>5572</td>\n",
       "      <td>5572</td>\n",
       "    </tr>\n",
       "    <tr>\n",
       "      <th>unique</th>\n",
       "      <td>2</td>\n",
       "      <td>5157</td>\n",
       "    </tr>\n",
       "    <tr>\n",
       "      <th>top</th>\n",
       "      <td>ham</td>\n",
       "      <td>Sorry, I'll call later</td>\n",
       "    </tr>\n",
       "    <tr>\n",
       "      <th>freq</th>\n",
       "      <td>4825</td>\n",
       "      <td>30</td>\n",
       "    </tr>\n",
       "  </tbody>\n",
       "</table>\n",
       "</div>"
      ],
      "text/plain": [
       "       Category                 Message\n",
       "count      5572                    5572\n",
       "unique        2                    5157\n",
       "top         ham  Sorry, I'll call later\n",
       "freq       4825                      30"
      ]
     },
     "execution_count": 11,
     "metadata": {},
     "output_type": "execute_result"
    }
   ],
   "source": [
    "# Describe \n",
    "raw_mail_data.describe(include='object')"
   ]
  },
  {
   "cell_type": "code",
   "execution_count": 13,
   "id": "8a0af209-b2f9-49c8-b1a6-1b011d6b3e15",
   "metadata": {},
   "outputs": [],
   "source": [
    "from sklearn.model_selection import train_test_split"
   ]
  },
  {
   "cell_type": "raw",
   "id": "2ed62ef6-93f6-4a2e-8132-6cd2999c56f2",
   "metadata": {},
   "source": [
    "# Understanding the data\n",
    "In Message column, we can see the data is textual,NLP {Natural Language Processing} Text.So we have to make the data in the form of vectors to understand the relationships between different rows of the Message column, to make model understand which \n",
    "type of data should be classified under Ham{Important} and Spam Class{Irrelevant/Mislead kind}"
   ]
  },
  {
   "cell_type": "code",
   "execution_count": 15,
   "id": "5e290062-a8f2-4bdb-9d9e-19dcf5d46051",
   "metadata": {},
   "outputs": [],
   "source": [
    "from sklearn.feature_extraction.text import TfidfVectorizer\n",
    "from sklearn.metrics import accuracy_score,classification_report"
   ]
  },
  {
   "cell_type": "code",
   "execution_count": 21,
   "id": "3fb444f1-48ae-4572-92e7-8d27e3d2110b",
   "metadata": {},
   "outputs": [
    {
     "data": {
      "text/plain": [
       "Category    0\n",
       "Message     0\n",
       "dtype: int64"
      ]
     },
     "execution_count": 21,
     "metadata": {},
     "output_type": "execute_result"
    }
   ],
   "source": [
    "# Checking Missing Data exists in the Dataset\n",
    "raw_mail_data.isnull().sum()"
   ]
  },
  {
   "cell_type": "code",
   "execution_count": 25,
   "id": "a2e2a5f3-ac87-4ebc-ab19-7758f905790b",
   "metadata": {},
   "outputs": [],
   "source": [
    "# Handling NUll Values/Missing Data in a particular row\n",
    "\n",
    "df = raw_mail_data.where((pd.notnull(raw_mail_data)),' ')"
   ]
  },
  {
   "cell_type": "code",
   "execution_count": 27,
   "id": "fcf1f596-8804-4044-a3a7-dcf72c4bd688",
   "metadata": {},
   "outputs": [
    {
     "data": {
      "text/plain": [
       "Category    0\n",
       "Message     0\n",
       "dtype: int64"
      ]
     },
     "execution_count": 27,
     "metadata": {},
     "output_type": "execute_result"
    }
   ],
   "source": [
    "df.isnull().sum()"
   ]
  },
  {
   "cell_type": "code",
   "execution_count": 29,
   "id": "68cb96f2-4cc9-4b00-9b9d-2608153c088a",
   "metadata": {},
   "outputs": [
    {
     "data": {
      "text/plain": [
       "(5572, 2)"
      ]
     },
     "execution_count": 29,
     "metadata": {},
     "output_type": "execute_result"
    }
   ],
   "source": [
    "# checking the shape\n",
    "df.shape"
   ]
  },
  {
   "cell_type": "code",
   "execution_count": 34,
   "id": "3538e1d1-6cb6-481f-9ae5-1482ef4cbe25",
   "metadata": {},
   "outputs": [
    {
     "data": {
      "text/plain": [
       "Category\n",
       "ham     4825\n",
       "spam     747\n",
       "Name: count, dtype: int64"
      ]
     },
     "execution_count": 34,
     "metadata": {},
     "output_type": "execute_result"
    }
   ],
   "source": [
    "df['Category'].value_counts()"
   ]
  },
  {
   "cell_type": "markdown",
   "id": "616dcfdf-12cb-496f-8c11-6c8416d30e08",
   "metadata": {},
   "source": [
    "#### Supervised Machine Learning problem"
   ]
  },
  {
   "cell_type": "code",
   "execution_count": 32,
   "id": "383ffb5a-bd14-4eca-8ee3-06e9fbd1fd72",
   "metadata": {},
   "outputs": [],
   "source": [
    "## Label Encoding for output column\n",
    "from sklearn.preprocessing import LabelEncoder\n"
   ]
  },
  {
   "cell_type": "code",
   "execution_count": 38,
   "id": "5f2839e9-2c16-429d-a39e-f46f64f53c22",
   "metadata": {},
   "outputs": [],
   "source": [
    "df['Category'] = df['Category'].map({'spam' : 0 ,'ham':1})"
   ]
  },
  {
   "cell_type": "code",
   "execution_count": 40,
   "id": "0c97654c-6fa1-4618-86e1-f3221c1e986e",
   "metadata": {},
   "outputs": [
    {
     "data": {
      "text/plain": [
       "Category\n",
       "1    4825\n",
       "0     747\n",
       "Name: count, dtype: int64"
      ]
     },
     "execution_count": 40,
     "metadata": {},
     "output_type": "execute_result"
    }
   ],
   "source": [
    "df['Category'].value_counts()"
   ]
  },
  {
   "cell_type": "raw",
   "id": "f94ed850-8d35-4504-b406-e24e9accef64",
   "metadata": {},
   "source": [
    "# Using Loc Function Encoding the Labels of Category column\n",
    "# loc - Location\n",
    "df.loc[df['Category'] == 'spam','Category',] = 0\n",
    "df.loc[df['Category'] == 'ham','Category',] = 1"
   ]
  },
  {
   "cell_type": "code",
   "execution_count": 42,
   "id": "5ca1b083-dbb5-4873-808b-8799e2106418",
   "metadata": {},
   "outputs": [
    {
     "data": {
      "text/html": [
       "<div>\n",
       "<style scoped>\n",
       "    .dataframe tbody tr th:only-of-type {\n",
       "        vertical-align: middle;\n",
       "    }\n",
       "\n",
       "    .dataframe tbody tr th {\n",
       "        vertical-align: top;\n",
       "    }\n",
       "\n",
       "    .dataframe thead th {\n",
       "        text-align: right;\n",
       "    }\n",
       "</style>\n",
       "<table border=\"1\" class=\"dataframe\">\n",
       "  <thead>\n",
       "    <tr style=\"text-align: right;\">\n",
       "      <th></th>\n",
       "      <th>Category</th>\n",
       "      <th>Message</th>\n",
       "    </tr>\n",
       "  </thead>\n",
       "  <tbody>\n",
       "    <tr>\n",
       "      <th>221</th>\n",
       "      <td>1</td>\n",
       "      <td>Ok no prob. Take ur time.</td>\n",
       "    </tr>\n",
       "    <tr>\n",
       "      <th>1397</th>\n",
       "      <td>1</td>\n",
       "      <td>Shall i start from hear.</td>\n",
       "    </tr>\n",
       "    <tr>\n",
       "      <th>3507</th>\n",
       "      <td>1</td>\n",
       "      <td>Nite...</td>\n",
       "    </tr>\n",
       "    <tr>\n",
       "      <th>3530</th>\n",
       "      <td>0</td>\n",
       "      <td>Xmas &amp; New Years Eve tickets are now on sale f...</td>\n",
       "    </tr>\n",
       "    <tr>\n",
       "      <th>2775</th>\n",
       "      <td>1</td>\n",
       "      <td>Dude u knw also telugu..thts gud..k, gud nyt..</td>\n",
       "    </tr>\n",
       "  </tbody>\n",
       "</table>\n",
       "</div>"
      ],
      "text/plain": [
       "      Category                                            Message\n",
       "221          1                          Ok no prob. Take ur time.\n",
       "1397         1                           Shall i start from hear.\n",
       "3507         1                                            Nite...\n",
       "3530         0  Xmas & New Years Eve tickets are now on sale f...\n",
       "2775         1     Dude u knw also telugu..thts gud..k, gud nyt.."
      ]
     },
     "execution_count": 42,
     "metadata": {},
     "output_type": "execute_result"
    }
   ],
   "source": [
    "df.sample(5)"
   ]
  },
  {
   "cell_type": "code",
   "execution_count": 44,
   "id": "8c78d95a-2ee1-47e5-ab52-6c75bd8dcef2",
   "metadata": {},
   "outputs": [],
   "source": [
    "# Splitting the data into independent and dependent column\n",
    "X = df['Message']\n",
    "y = df['Category']"
   ]
  },
  {
   "cell_type": "code",
   "execution_count": 46,
   "id": "24262656-298d-49f3-818f-b15aaeceee28",
   "metadata": {},
   "outputs": [],
   "source": [
    "# Splitting the Independent and Output Feature into Train and Test\n",
    "X_train,X_test,y_train,y_test = train_test_split(X,y,test_size=0.2,random_state=42)"
   ]
  },
  {
   "cell_type": "code",
   "execution_count": 48,
   "id": "1e2202c5-67b6-4546-9753-9c4d37550715",
   "metadata": {},
   "outputs": [
    {
     "data": {
      "text/plain": [
       "((4457,), (1115,), (4457,), (1115,))"
      ]
     },
     "execution_count": 48,
     "metadata": {},
     "output_type": "execute_result"
    }
   ],
   "source": [
    "X_train.shape,X_test.shape,y_train.shape,y_test.shape"
   ]
  },
  {
   "cell_type": "code",
   "execution_count": 50,
   "id": "d2af3cf9-14d6-4163-bc2e-f3fb31d0858d",
   "metadata": {},
   "outputs": [],
   "source": [
    "# Feature Extractions\n",
    "# Convert the text into vectors\n",
    "feature_extraction = TfidfVectorizer(min_df=1,stop_words='english',binary=True)"
   ]
  },
  {
   "cell_type": "code",
   "execution_count": 52,
   "id": "e5bb7ccf-0153-42b6-9d26-79442427d2f4",
   "metadata": {},
   "outputs": [],
   "source": [
    "X_train_features = feature_extraction.fit_transform(X_train).toarray\n",
    "X_test_features = feature_extraction.transform(X_test)"
   ]
  },
  {
   "cell_type": "code",
   "execution_count": 54,
   "id": "588e266d-b144-49be-9a88-c30d8fdda145",
   "metadata": {},
   "outputs": [
    {
     "name": "stdout",
     "output_type": "stream",
     "text": [
      "<class 'pandas.core.frame.DataFrame'>\n",
      "RangeIndex: 5572 entries, 0 to 5571\n",
      "Data columns (total 2 columns):\n",
      " #   Column    Non-Null Count  Dtype \n",
      "---  ------    --------------  ----- \n",
      " 0   Category  5572 non-null   int64 \n",
      " 1   Message   5572 non-null   object\n",
      "dtypes: int64(1), object(1)\n",
      "memory usage: 87.2+ KB\n"
     ]
    }
   ],
   "source": [
    "df.info()"
   ]
  },
  {
   "cell_type": "code",
   "execution_count": 58,
   "id": "471542d2-ea2c-4fcd-8576-bf59625ebf4f",
   "metadata": {},
   "outputs": [],
   "source": [
    "# df['Category'] = df['Category'].astype('int64')\n",
    "# y_train = y_train.astype(\"int64\")\n",
    "# y_test = y_test.astype(\"int64\")"
   ]
  },
  {
   "cell_type": "code",
   "execution_count": 60,
   "id": "d08fb8db-bcec-48c0-bc12-476450b16b96",
   "metadata": {},
   "outputs": [
    {
     "data": {
      "text/plain": [
       "array([[0., 0., 0., ..., 0., 0., 0.],\n",
       "       [0., 0., 0., ..., 0., 0., 0.],\n",
       "       [0., 0., 0., ..., 0., 0., 0.],\n",
       "       ...,\n",
       "       [0., 0., 0., ..., 0., 0., 0.],\n",
       "       [0., 0., 0., ..., 0., 0., 0.],\n",
       "       [0., 0., 0., ..., 0., 0., 0.]])"
      ]
     },
     "execution_count": 60,
     "metadata": {},
     "output_type": "execute_result"
    }
   ],
   "source": [
    "feature_extraction.fit_transform(X_train).toarray()"
   ]
  },
  {
   "cell_type": "code",
   "execution_count": 62,
   "id": "959038fa-db4d-4ce5-bd08-74e205068109",
   "metadata": {},
   "outputs": [
    {
     "data": {
      "text/plain": [
       "array([[0., 0., 0., ..., 0., 0., 0.],\n",
       "       [0., 0., 0., ..., 0., 0., 0.],\n",
       "       [0., 0., 0., ..., 0., 0., 0.],\n",
       "       ...,\n",
       "       [0., 0., 0., ..., 0., 0., 0.],\n",
       "       [0., 0., 0., ..., 0., 0., 0.],\n",
       "       [0., 0., 0., ..., 0., 0., 0.]])"
      ]
     },
     "execution_count": 62,
     "metadata": {},
     "output_type": "execute_result"
    }
   ],
   "source": [
    "feature_extraction.transform(X_test).toarray()"
   ]
  },
  {
   "cell_type": "code",
   "execution_count": 66,
   "id": "8d32500c-271c-4adb-8fc2-20c509c6b0a7",
   "metadata": {},
   "outputs": [
    {
     "data": {
      "text/html": [
       "<style>#sk-container-id-1 {\n",
       "  /* Definition of color scheme common for light and dark mode */\n",
       "  --sklearn-color-text: black;\n",
       "  --sklearn-color-line: gray;\n",
       "  /* Definition of color scheme for unfitted estimators */\n",
       "  --sklearn-color-unfitted-level-0: #fff5e6;\n",
       "  --sklearn-color-unfitted-level-1: #f6e4d2;\n",
       "  --sklearn-color-unfitted-level-2: #ffe0b3;\n",
       "  --sklearn-color-unfitted-level-3: chocolate;\n",
       "  /* Definition of color scheme for fitted estimators */\n",
       "  --sklearn-color-fitted-level-0: #f0f8ff;\n",
       "  --sklearn-color-fitted-level-1: #d4ebff;\n",
       "  --sklearn-color-fitted-level-2: #b3dbfd;\n",
       "  --sklearn-color-fitted-level-3: cornflowerblue;\n",
       "\n",
       "  /* Specific color for light theme */\n",
       "  --sklearn-color-text-on-default-background: var(--sg-text-color, var(--theme-code-foreground, var(--jp-content-font-color1, black)));\n",
       "  --sklearn-color-background: var(--sg-background-color, var(--theme-background, var(--jp-layout-color0, white)));\n",
       "  --sklearn-color-border-box: var(--sg-text-color, var(--theme-code-foreground, var(--jp-content-font-color1, black)));\n",
       "  --sklearn-color-icon: #696969;\n",
       "\n",
       "  @media (prefers-color-scheme: dark) {\n",
       "    /* Redefinition of color scheme for dark theme */\n",
       "    --sklearn-color-text-on-default-background: var(--sg-text-color, var(--theme-code-foreground, var(--jp-content-font-color1, white)));\n",
       "    --sklearn-color-background: var(--sg-background-color, var(--theme-background, var(--jp-layout-color0, #111)));\n",
       "    --sklearn-color-border-box: var(--sg-text-color, var(--theme-code-foreground, var(--jp-content-font-color1, white)));\n",
       "    --sklearn-color-icon: #878787;\n",
       "  }\n",
       "}\n",
       "\n",
       "#sk-container-id-1 {\n",
       "  color: var(--sklearn-color-text);\n",
       "}\n",
       "\n",
       "#sk-container-id-1 pre {\n",
       "  padding: 0;\n",
       "}\n",
       "\n",
       "#sk-container-id-1 input.sk-hidden--visually {\n",
       "  border: 0;\n",
       "  clip: rect(1px 1px 1px 1px);\n",
       "  clip: rect(1px, 1px, 1px, 1px);\n",
       "  height: 1px;\n",
       "  margin: -1px;\n",
       "  overflow: hidden;\n",
       "  padding: 0;\n",
       "  position: absolute;\n",
       "  width: 1px;\n",
       "}\n",
       "\n",
       "#sk-container-id-1 div.sk-dashed-wrapped {\n",
       "  border: 1px dashed var(--sklearn-color-line);\n",
       "  margin: 0 0.4em 0.5em 0.4em;\n",
       "  box-sizing: border-box;\n",
       "  padding-bottom: 0.4em;\n",
       "  background-color: var(--sklearn-color-background);\n",
       "}\n",
       "\n",
       "#sk-container-id-1 div.sk-container {\n",
       "  /* jupyter's `normalize.less` sets `[hidden] { display: none; }`\n",
       "     but bootstrap.min.css set `[hidden] { display: none !important; }`\n",
       "     so we also need the `!important` here to be able to override the\n",
       "     default hidden behavior on the sphinx rendered scikit-learn.org.\n",
       "     See: https://github.com/scikit-learn/scikit-learn/issues/21755 */\n",
       "  display: inline-block !important;\n",
       "  position: relative;\n",
       "}\n",
       "\n",
       "#sk-container-id-1 div.sk-text-repr-fallback {\n",
       "  display: none;\n",
       "}\n",
       "\n",
       "div.sk-parallel-item,\n",
       "div.sk-serial,\n",
       "div.sk-item {\n",
       "  /* draw centered vertical line to link estimators */\n",
       "  background-image: linear-gradient(var(--sklearn-color-text-on-default-background), var(--sklearn-color-text-on-default-background));\n",
       "  background-size: 2px 100%;\n",
       "  background-repeat: no-repeat;\n",
       "  background-position: center center;\n",
       "}\n",
       "\n",
       "/* Parallel-specific style estimator block */\n",
       "\n",
       "#sk-container-id-1 div.sk-parallel-item::after {\n",
       "  content: \"\";\n",
       "  width: 100%;\n",
       "  border-bottom: 2px solid var(--sklearn-color-text-on-default-background);\n",
       "  flex-grow: 1;\n",
       "}\n",
       "\n",
       "#sk-container-id-1 div.sk-parallel {\n",
       "  display: flex;\n",
       "  align-items: stretch;\n",
       "  justify-content: center;\n",
       "  background-color: var(--sklearn-color-background);\n",
       "  position: relative;\n",
       "}\n",
       "\n",
       "#sk-container-id-1 div.sk-parallel-item {\n",
       "  display: flex;\n",
       "  flex-direction: column;\n",
       "}\n",
       "\n",
       "#sk-container-id-1 div.sk-parallel-item:first-child::after {\n",
       "  align-self: flex-end;\n",
       "  width: 50%;\n",
       "}\n",
       "\n",
       "#sk-container-id-1 div.sk-parallel-item:last-child::after {\n",
       "  align-self: flex-start;\n",
       "  width: 50%;\n",
       "}\n",
       "\n",
       "#sk-container-id-1 div.sk-parallel-item:only-child::after {\n",
       "  width: 0;\n",
       "}\n",
       "\n",
       "/* Serial-specific style estimator block */\n",
       "\n",
       "#sk-container-id-1 div.sk-serial {\n",
       "  display: flex;\n",
       "  flex-direction: column;\n",
       "  align-items: center;\n",
       "  background-color: var(--sklearn-color-background);\n",
       "  padding-right: 1em;\n",
       "  padding-left: 1em;\n",
       "}\n",
       "\n",
       "\n",
       "/* Toggleable style: style used for estimator/Pipeline/ColumnTransformer box that is\n",
       "clickable and can be expanded/collapsed.\n",
       "- Pipeline and ColumnTransformer use this feature and define the default style\n",
       "- Estimators will overwrite some part of the style using the `sk-estimator` class\n",
       "*/\n",
       "\n",
       "/* Pipeline and ColumnTransformer style (default) */\n",
       "\n",
       "#sk-container-id-1 div.sk-toggleable {\n",
       "  /* Default theme specific background. It is overwritten whether we have a\n",
       "  specific estimator or a Pipeline/ColumnTransformer */\n",
       "  background-color: var(--sklearn-color-background);\n",
       "}\n",
       "\n",
       "/* Toggleable label */\n",
       "#sk-container-id-1 label.sk-toggleable__label {\n",
       "  cursor: pointer;\n",
       "  display: block;\n",
       "  width: 100%;\n",
       "  margin-bottom: 0;\n",
       "  padding: 0.5em;\n",
       "  box-sizing: border-box;\n",
       "  text-align: center;\n",
       "}\n",
       "\n",
       "#sk-container-id-1 label.sk-toggleable__label-arrow:before {\n",
       "  /* Arrow on the left of the label */\n",
       "  content: \"▸\";\n",
       "  float: left;\n",
       "  margin-right: 0.25em;\n",
       "  color: var(--sklearn-color-icon);\n",
       "}\n",
       "\n",
       "#sk-container-id-1 label.sk-toggleable__label-arrow:hover:before {\n",
       "  color: var(--sklearn-color-text);\n",
       "}\n",
       "\n",
       "/* Toggleable content - dropdown */\n",
       "\n",
       "#sk-container-id-1 div.sk-toggleable__content {\n",
       "  max-height: 0;\n",
       "  max-width: 0;\n",
       "  overflow: hidden;\n",
       "  text-align: left;\n",
       "  /* unfitted */\n",
       "  background-color: var(--sklearn-color-unfitted-level-0);\n",
       "}\n",
       "\n",
       "#sk-container-id-1 div.sk-toggleable__content.fitted {\n",
       "  /* fitted */\n",
       "  background-color: var(--sklearn-color-fitted-level-0);\n",
       "}\n",
       "\n",
       "#sk-container-id-1 div.sk-toggleable__content pre {\n",
       "  margin: 0.2em;\n",
       "  border-radius: 0.25em;\n",
       "  color: var(--sklearn-color-text);\n",
       "  /* unfitted */\n",
       "  background-color: var(--sklearn-color-unfitted-level-0);\n",
       "}\n",
       "\n",
       "#sk-container-id-1 div.sk-toggleable__content.fitted pre {\n",
       "  /* unfitted */\n",
       "  background-color: var(--sklearn-color-fitted-level-0);\n",
       "}\n",
       "\n",
       "#sk-container-id-1 input.sk-toggleable__control:checked~div.sk-toggleable__content {\n",
       "  /* Expand drop-down */\n",
       "  max-height: 200px;\n",
       "  max-width: 100%;\n",
       "  overflow: auto;\n",
       "}\n",
       "\n",
       "#sk-container-id-1 input.sk-toggleable__control:checked~label.sk-toggleable__label-arrow:before {\n",
       "  content: \"▾\";\n",
       "}\n",
       "\n",
       "/* Pipeline/ColumnTransformer-specific style */\n",
       "\n",
       "#sk-container-id-1 div.sk-label input.sk-toggleable__control:checked~label.sk-toggleable__label {\n",
       "  color: var(--sklearn-color-text);\n",
       "  background-color: var(--sklearn-color-unfitted-level-2);\n",
       "}\n",
       "\n",
       "#sk-container-id-1 div.sk-label.fitted input.sk-toggleable__control:checked~label.sk-toggleable__label {\n",
       "  background-color: var(--sklearn-color-fitted-level-2);\n",
       "}\n",
       "\n",
       "/* Estimator-specific style */\n",
       "\n",
       "/* Colorize estimator box */\n",
       "#sk-container-id-1 div.sk-estimator input.sk-toggleable__control:checked~label.sk-toggleable__label {\n",
       "  /* unfitted */\n",
       "  background-color: var(--sklearn-color-unfitted-level-2);\n",
       "}\n",
       "\n",
       "#sk-container-id-1 div.sk-estimator.fitted input.sk-toggleable__control:checked~label.sk-toggleable__label {\n",
       "  /* fitted */\n",
       "  background-color: var(--sklearn-color-fitted-level-2);\n",
       "}\n",
       "\n",
       "#sk-container-id-1 div.sk-label label.sk-toggleable__label,\n",
       "#sk-container-id-1 div.sk-label label {\n",
       "  /* The background is the default theme color */\n",
       "  color: var(--sklearn-color-text-on-default-background);\n",
       "}\n",
       "\n",
       "/* On hover, darken the color of the background */\n",
       "#sk-container-id-1 div.sk-label:hover label.sk-toggleable__label {\n",
       "  color: var(--sklearn-color-text);\n",
       "  background-color: var(--sklearn-color-unfitted-level-2);\n",
       "}\n",
       "\n",
       "/* Label box, darken color on hover, fitted */\n",
       "#sk-container-id-1 div.sk-label.fitted:hover label.sk-toggleable__label.fitted {\n",
       "  color: var(--sklearn-color-text);\n",
       "  background-color: var(--sklearn-color-fitted-level-2);\n",
       "}\n",
       "\n",
       "/* Estimator label */\n",
       "\n",
       "#sk-container-id-1 div.sk-label label {\n",
       "  font-family: monospace;\n",
       "  font-weight: bold;\n",
       "  display: inline-block;\n",
       "  line-height: 1.2em;\n",
       "}\n",
       "\n",
       "#sk-container-id-1 div.sk-label-container {\n",
       "  text-align: center;\n",
       "}\n",
       "\n",
       "/* Estimator-specific */\n",
       "#sk-container-id-1 div.sk-estimator {\n",
       "  font-family: monospace;\n",
       "  border: 1px dotted var(--sklearn-color-border-box);\n",
       "  border-radius: 0.25em;\n",
       "  box-sizing: border-box;\n",
       "  margin-bottom: 0.5em;\n",
       "  /* unfitted */\n",
       "  background-color: var(--sklearn-color-unfitted-level-0);\n",
       "}\n",
       "\n",
       "#sk-container-id-1 div.sk-estimator.fitted {\n",
       "  /* fitted */\n",
       "  background-color: var(--sklearn-color-fitted-level-0);\n",
       "}\n",
       "\n",
       "/* on hover */\n",
       "#sk-container-id-1 div.sk-estimator:hover {\n",
       "  /* unfitted */\n",
       "  background-color: var(--sklearn-color-unfitted-level-2);\n",
       "}\n",
       "\n",
       "#sk-container-id-1 div.sk-estimator.fitted:hover {\n",
       "  /* fitted */\n",
       "  background-color: var(--sklearn-color-fitted-level-2);\n",
       "}\n",
       "\n",
       "/* Specification for estimator info (e.g. \"i\" and \"?\") */\n",
       "\n",
       "/* Common style for \"i\" and \"?\" */\n",
       "\n",
       ".sk-estimator-doc-link,\n",
       "a:link.sk-estimator-doc-link,\n",
       "a:visited.sk-estimator-doc-link {\n",
       "  float: right;\n",
       "  font-size: smaller;\n",
       "  line-height: 1em;\n",
       "  font-family: monospace;\n",
       "  background-color: var(--sklearn-color-background);\n",
       "  border-radius: 1em;\n",
       "  height: 1em;\n",
       "  width: 1em;\n",
       "  text-decoration: none !important;\n",
       "  margin-left: 1ex;\n",
       "  /* unfitted */\n",
       "  border: var(--sklearn-color-unfitted-level-1) 1pt solid;\n",
       "  color: var(--sklearn-color-unfitted-level-1);\n",
       "}\n",
       "\n",
       ".sk-estimator-doc-link.fitted,\n",
       "a:link.sk-estimator-doc-link.fitted,\n",
       "a:visited.sk-estimator-doc-link.fitted {\n",
       "  /* fitted */\n",
       "  border: var(--sklearn-color-fitted-level-1) 1pt solid;\n",
       "  color: var(--sklearn-color-fitted-level-1);\n",
       "}\n",
       "\n",
       "/* On hover */\n",
       "div.sk-estimator:hover .sk-estimator-doc-link:hover,\n",
       ".sk-estimator-doc-link:hover,\n",
       "div.sk-label-container:hover .sk-estimator-doc-link:hover,\n",
       ".sk-estimator-doc-link:hover {\n",
       "  /* unfitted */\n",
       "  background-color: var(--sklearn-color-unfitted-level-3);\n",
       "  color: var(--sklearn-color-background);\n",
       "  text-decoration: none;\n",
       "}\n",
       "\n",
       "div.sk-estimator.fitted:hover .sk-estimator-doc-link.fitted:hover,\n",
       ".sk-estimator-doc-link.fitted:hover,\n",
       "div.sk-label-container:hover .sk-estimator-doc-link.fitted:hover,\n",
       ".sk-estimator-doc-link.fitted:hover {\n",
       "  /* fitted */\n",
       "  background-color: var(--sklearn-color-fitted-level-3);\n",
       "  color: var(--sklearn-color-background);\n",
       "  text-decoration: none;\n",
       "}\n",
       "\n",
       "/* Span, style for the box shown on hovering the info icon */\n",
       ".sk-estimator-doc-link span {\n",
       "  display: none;\n",
       "  z-index: 9999;\n",
       "  position: relative;\n",
       "  font-weight: normal;\n",
       "  right: .2ex;\n",
       "  padding: .5ex;\n",
       "  margin: .5ex;\n",
       "  width: min-content;\n",
       "  min-width: 20ex;\n",
       "  max-width: 50ex;\n",
       "  color: var(--sklearn-color-text);\n",
       "  box-shadow: 2pt 2pt 4pt #999;\n",
       "  /* unfitted */\n",
       "  background: var(--sklearn-color-unfitted-level-0);\n",
       "  border: .5pt solid var(--sklearn-color-unfitted-level-3);\n",
       "}\n",
       "\n",
       ".sk-estimator-doc-link.fitted span {\n",
       "  /* fitted */\n",
       "  background: var(--sklearn-color-fitted-level-0);\n",
       "  border: var(--sklearn-color-fitted-level-3);\n",
       "}\n",
       "\n",
       ".sk-estimator-doc-link:hover span {\n",
       "  display: block;\n",
       "}\n",
       "\n",
       "/* \"?\"-specific style due to the `<a>` HTML tag */\n",
       "\n",
       "#sk-container-id-1 a.estimator_doc_link {\n",
       "  float: right;\n",
       "  font-size: 1rem;\n",
       "  line-height: 1em;\n",
       "  font-family: monospace;\n",
       "  background-color: var(--sklearn-color-background);\n",
       "  border-radius: 1rem;\n",
       "  height: 1rem;\n",
       "  width: 1rem;\n",
       "  text-decoration: none;\n",
       "  /* unfitted */\n",
       "  color: var(--sklearn-color-unfitted-level-1);\n",
       "  border: var(--sklearn-color-unfitted-level-1) 1pt solid;\n",
       "}\n",
       "\n",
       "#sk-container-id-1 a.estimator_doc_link.fitted {\n",
       "  /* fitted */\n",
       "  border: var(--sklearn-color-fitted-level-1) 1pt solid;\n",
       "  color: var(--sklearn-color-fitted-level-1);\n",
       "}\n",
       "\n",
       "/* On hover */\n",
       "#sk-container-id-1 a.estimator_doc_link:hover {\n",
       "  /* unfitted */\n",
       "  background-color: var(--sklearn-color-unfitted-level-3);\n",
       "  color: var(--sklearn-color-background);\n",
       "  text-decoration: none;\n",
       "}\n",
       "\n",
       "#sk-container-id-1 a.estimator_doc_link.fitted:hover {\n",
       "  /* fitted */\n",
       "  background-color: var(--sklearn-color-fitted-level-3);\n",
       "}\n",
       "</style><div id=\"sk-container-id-1\" class=\"sk-top-container\"><div class=\"sk-text-repr-fallback\"><pre>LogisticRegression()</pre><b>In a Jupyter environment, please rerun this cell to show the HTML representation or trust the notebook. <br />On GitHub, the HTML representation is unable to render, please try loading this page with nbviewer.org.</b></div><div class=\"sk-container\" hidden><div class=\"sk-item\"><div class=\"sk-estimator fitted sk-toggleable\"><input class=\"sk-toggleable__control sk-hidden--visually\" id=\"sk-estimator-id-1\" type=\"checkbox\" checked><label for=\"sk-estimator-id-1\" class=\"sk-toggleable__label fitted sk-toggleable__label-arrow fitted\">&nbsp;&nbsp;LogisticRegression<a class=\"sk-estimator-doc-link fitted\" rel=\"noreferrer\" target=\"_blank\" href=\"https://scikit-learn.org/1.5/modules/generated/sklearn.linear_model.LogisticRegression.html\">?<span>Documentation for LogisticRegression</span></a><span class=\"sk-estimator-doc-link fitted\">i<span>Fitted</span></span></label><div class=\"sk-toggleable__content fitted\"><pre>LogisticRegression()</pre></div> </div></div></div></div>"
      ],
      "text/plain": [
       "LogisticRegression()"
      ]
     },
     "execution_count": 66,
     "metadata": {},
     "output_type": "execute_result"
    }
   ],
   "source": [
    "from sklearn.linear_model import LogisticRegression\n",
    "model = LogisticRegression()\n",
    "model.fit(X_train_features,y_train)"
   ]
  },
  {
   "cell_type": "code",
   "execution_count": 68,
   "id": "d5ec4aef-d5ed-4a0d-9625-ea62d42514c1",
   "metadata": {},
   "outputs": [
    {
     "name": "stdout",
     "output_type": "stream",
     "text": [
      "  (0, 5512)\t0.1898892037332199\n",
      "  (0, 7222)\t0.2173884735352799\n",
      "  (0, 258)\t0.2379428657041507\n",
      "  (0, 7162)\t0.2550284465664535\n",
      "  (0, 354)\t0.3544175987866074\n",
      "  (0, 2724)\t0.3544175987866074\n",
      "  (0, 7300)\t0.24288153842988894\n",
      "  (0, 2049)\t0.3034375179183143\n",
      "  (0, 3262)\t0.33791755486732394\n",
      "  (0, 5800)\t0.17558937755823417\n",
      "  (0, 6264)\t0.1898892037332199\n",
      "  (0, 694)\t0.3171299579602537\n",
      "  (0, 2497)\t0.2442158912653505\n",
      "  (0, 5818)\t0.22682143517864364\n",
      "  (1, 3267)\t0.26787130770292167\n",
      "  (1, 6109)\t0.32397626344658004\n",
      "  (1, 6738)\t0.28986069568917994\n",
      "  (1, 2335)\t0.21623212751660786\n",
      "  (1, 5650)\t0.3604441444703179\n",
      "  (1, 3333)\t0.20665394084233094\n",
      "  (1, 2440)\t0.3387054464839871\n",
      "  (1, 4509)\t0.40282459910606705\n",
      "  (1, 3932)\t0.24325511357721422\n",
      "  (1, 3804)\t0.19029023465152678\n",
      "  (1, 2555)\t0.3840709491751003\n",
      "  :\t:\n",
      "  (4452, 3084)\t0.22948428918295163\n",
      "  (4452, 3290)\t0.26370969643076225\n",
      "  (4452, 3978)\t0.4574160733416501\n",
      "  (4452, 7280)\t0.3968991650168732\n",
      "  (4452, 2438)\t0.4574160733416501\n",
      "  (4452, 7264)\t0.479751063610169\n",
      "  (4453, 6108)\t0.5975612693457145\n",
      "  (4453, 4004)\t0.5244851817485772\n",
      "  (4453, 3874)\t0.6064947019588055\n",
      "  (4454, 2893)\t0.38087861810984514\n",
      "  (4454, 3249)\t0.3182708584577292\n",
      "  (4454, 5409)\t0.4079234999314281\n",
      "  (4454, 5149)\t0.43410473161397095\n",
      "  (4454, 6114)\t0.4465347909835087\n",
      "  (4454, 6113)\t0.4465347909835087\n",
      "  (4455, 6686)\t0.40745931976870786\n",
      "  (4455, 4660)\t0.4924788339394118\n",
      "  (4455, 3691)\t0.5541750775894743\n",
      "  (4455, 5815)\t0.5332274226200294\n",
      "  (4456, 3720)\t0.24023610815826443\n",
      "  (4456, 2236)\t0.3138975170542533\n",
      "  (4456, 5719)\t0.32762879958318814\n",
      "  (4456, 6467)\t0.4816862839263015\n",
      "  (4456, 6078)\t0.4654515925066416\n",
      "  (4456, 4518)\t0.5364209818026567\n"
     ]
    }
   ],
   "source": [
    "print(X_train_features)\n",
    "# (spam,vectors of the data   similarity_score of vectors)\n",
    "#                          OR\n",
    "# (ham,vectors of the data   similarity_score of vectors)"
   ]
  },
  {
   "cell_type": "code",
   "execution_count": 70,
   "id": "18dc53d0-7506-45cf-a1e0-347e0e5244d9",
   "metadata": {},
   "outputs": [
    {
     "name": "stdout",
     "output_type": "stream",
     "text": [
      "  (0, 1751)\t0.34896165336060586\n",
      "  (0, 2065)\t0.36113324080559445\n",
      "  (0, 2173)\t0.30145841567028486\n",
      "  (0, 3225)\t0.402169324846608\n",
      "  (0, 3395)\t0.402169324846608\n",
      "  (0, 3955)\t0.3774291665065587\n",
      "  (0, 4100)\t0.3392428284838497\n",
      "  (0, 4942)\t0.27552235188443686\n",
      "  (1, 1361)\t0.37034060973735533\n",
      "  (1, 1975)\t0.3578586983359201\n",
      "  (1, 3443)\t0.3234324946551934\n",
      "  (1, 4044)\t0.3234324946551934\n",
      "  (1, 5430)\t0.387052012561607\n",
      "  (1, 6544)\t0.2204999931204713\n",
      "  (1, 6642)\t0.326271353777915\n",
      "  (1, 6986)\t0.2493471978387002\n",
      "  (1, 7158)\t0.3981347747267476\n",
      "  (2, 1292)\t0.31502044528879175\n",
      "  (2, 2377)\t0.42309928191578644\n",
      "  (2, 3067)\t0.21988546741069182\n",
      "  (2, 3084)\t0.21988546741069182\n",
      "  (2, 3510)\t0.4016985150384896\n",
      "  (2, 4369)\t0.42309928191578644\n",
      "  (2, 5597)\t0.4382833676588088\n",
      "  (2, 6570)\t0.30427433251497293\n",
      "  :\t:\n",
      "  (1110, 2380)\t0.3362376691126707\n",
      "  (1110, 2437)\t0.24437455884042017\n",
      "  (1110, 2749)\t0.2379337409312386\n",
      "  (1110, 3084)\t0.16868944269743877\n",
      "  (1110, 3180)\t0.3526556865484764\n",
      "  (1110, 3938)\t0.24167410415901527\n",
      "  (1110, 4105)\t0.23914254153997352\n",
      "  (1110, 4497)\t0.2874866271650959\n",
      "  (1110, 4806)\t0.26149679947415966\n",
      "  (1110, 5204)\t0.2537606265072484\n",
      "  (1110, 6142)\t0.22937745257301317\n",
      "  (1110, 7076)\t0.22151572349543291\n",
      "  (1110, 7120)\t0.20278325824090906\n",
      "  (1111, 1524)\t0.4325555054026121\n",
      "  (1111, 2410)\t0.36365496598104324\n",
      "  (1111, 2425)\t0.4088782922446393\n",
      "  (1111, 3258)\t0.45132488164412626\n",
      "  (1111, 3724)\t0.42134339857243075\n",
      "  (1111, 7095)\t0.36365496598104324\n",
      "  (1112, 4351)\t0.5834595274323432\n",
      "  (1112, 6550)\t0.6915319001748619\n",
      "  (1112, 7390)\t0.42586219706493245\n",
      "  (1113, 1472)\t0.5968782232979806\n",
      "  (1113, 1600)\t0.48856109936052156\n",
      "  (1113, 5796)\t0.6364310164851212\n"
     ]
    }
   ],
   "source": [
    "print(X_test_features)"
   ]
  },
  {
   "cell_type": "code",
   "execution_count": 76,
   "id": "38df5b00-0c94-4107-97a3-c4da80de09d8",
   "metadata": {},
   "outputs": [],
   "source": [
    "prediction_train_data = model.predict(X_train_features)\n",
    "accuracy_train_data = accuracy_score(y_train,prediction_train_data)"
   ]
  },
  {
   "cell_type": "code",
   "execution_count": 88,
   "id": "fa74f07d-b1db-4df3-adc5-d47c1707f81c",
   "metadata": {},
   "outputs": [
    {
     "name": "stdout",
     "output_type": "stream",
     "text": [
      "Accuracy on Train data :  0.9649988781691721\n"
     ]
    }
   ],
   "source": [
    "print(\"Accuracy on Train data : \",accuracy_train_data)"
   ]
  },
  {
   "cell_type": "code",
   "execution_count": 82,
   "id": "7c8a7673-a89d-486b-865c-88b0b8467292",
   "metadata": {},
   "outputs": [],
   "source": [
    "y_pred = model.predict(X_test_features)\n",
    "accuracy_test_data = accuracy_score(y_test,y_pred)"
   ]
  },
  {
   "cell_type": "code",
   "execution_count": 86,
   "id": "e2a5c6f4-b740-42a6-bfa8-e133fde33330",
   "metadata": {},
   "outputs": [
    {
     "name": "stdout",
     "output_type": "stream",
     "text": [
      "Accuracy on Test data :  0.9659192825112107\n"
     ]
    }
   ],
   "source": [
    "print(\"Accuracy on Test data : \",accuracy_test_data)"
   ]
  },
  {
   "cell_type": "code",
   "execution_count": 106,
   "id": "af2bcae1-08f6-4d2a-93b2-eae2237fc631",
   "metadata": {},
   "outputs": [],
   "source": [
    "# Building Predictive system\n",
    "input_user_mail = [\" Go until jurong point, crazy.. Available only in bugis n great world la e buffet... Cine there got amore wat...\"]\n",
    "input_data_feature = feature_extraction.transform(input_user_mail)\n"
   ]
  },
  {
   "cell_type": "code",
   "execution_count": 108,
   "id": "ccfcbf8a-6dc2-4364-a51d-5f1de6cc914e",
   "metadata": {},
   "outputs": [],
   "source": [
    "prediction = model.predict(input_data_feature)"
   ]
  },
  {
   "cell_type": "code",
   "execution_count": 112,
   "id": "41d9ec31-7a0a-4188-ab16-1b09b97a9bcc",
   "metadata": {},
   "outputs": [
    {
     "name": "stdout",
     "output_type": "stream",
     "text": [
      "Ham Mail\n"
     ]
    }
   ],
   "source": [
    "if prediction[0] == 1:\n",
    "    print('Ham Mail')\n",
    "else:\n",
    "    print('Spam Mail')"
   ]
  },
  {
   "cell_type": "code",
   "execution_count": 114,
   "id": "3ef83637-4e33-46ea-a7d6-5c9f63d3c726",
   "metadata": {},
   "outputs": [],
   "source": [
    "import pickle\n",
    "pickle.dump(model,open('Logistic_Regression.pkl','wb'))\n",
    "pickle.dump(feature_extraction,open('feature_extraction.pkl','wb'))"
   ]
  },
  {
   "cell_type": "code",
   "execution_count": null,
   "id": "b15c6bb6-7398-4f79-96ac-ee0c80bda502",
   "metadata": {},
   "outputs": [],
   "source": []
  }
 ],
 "metadata": {
  "kernelspec": {
   "display_name": "Python 3 (ipykernel)",
   "language": "python",
   "name": "python3"
  },
  "language_info": {
   "codemirror_mode": {
    "name": "ipython",
    "version": 3
   },
   "file_extension": ".py",
   "mimetype": "text/x-python",
   "name": "python",
   "nbconvert_exporter": "python",
   "pygments_lexer": "ipython3",
   "version": "3.12.7"
  }
 },
 "nbformat": 4,
 "nbformat_minor": 5
}
